{
  "nbformat": 4,
  "nbformat_minor": 0,
  "metadata": {
    "colab": {
      "name": "This_Sucks.ipynb",
      "provenance": [],
      "toc_visible": true
    },
    "kernelspec": {
      "name": "python3",
      "display_name": "Python 3"
    }
  },
  "cells": [
    {
      "cell_type": "code",
      "metadata": {
        "colab": {
          "base_uri": "https://localhost:8080/"
        },
        "id": "kSH2HtpHBPVg",
        "outputId": "b5dca230-b379-48b8-aa8d-5905125a88b3"
      },
      "source": [
        "import numpy as np\n",
        "import pandas as pd\n",
        "import matplotlib.pyplot as plt\n",
        "import seaborn as sns\n",
        "\n",
        "from sklearn.preprocessing import LabelEncoder, MinMaxScaler, RobustScaler\n",
        "from sklearn.metrics import f1_score, precision_score, recall_score, classification_report\n",
        "from sklearn.model_selection import KFold, StratifiedKFold, train_test_split, cross_val_score\n",
        "from sklearn.ensemble import RandomForestClassifier\n",
        "from pandas import DataFrame\n",
        "\n",
        "!pip install rgf_python\n",
        "from rgf.sklearn import RGFClassifier\n",
        "from lightgbm import LGBMClassifier\n",
        "from sklearn.ensemble import VotingClassifier\n",
        "!pip install catboost\n",
        "from catboost import CatBoostClassifier"
      ],
      "execution_count": 1,
      "outputs": [
        {
          "output_type": "stream",
          "text": [
            "Collecting rgf_python\n",
            "\u001b[?25l  Downloading https://files.pythonhosted.org/packages/7d/b5/9ba527ce20a1a5a6c279318be856aa4996e0d1b59035d466173198ffd468/rgf_python-3.9.0-py2.py3-none-manylinux1_x86_64.whl (757kB)\n",
            "\u001b[K     |████████████████████████████████| 768kB 8.6MB/s \n",
            "\u001b[?25hRequirement already satisfied: joblib in /usr/local/lib/python3.6/dist-packages (from rgf_python) (0.17.0)\n",
            "Requirement already satisfied: scikit-learn>=0.18 in /usr/local/lib/python3.6/dist-packages (from rgf_python) (0.22.2.post1)\n",
            "Requirement already satisfied: six in /usr/local/lib/python3.6/dist-packages (from rgf_python) (1.15.0)\n",
            "Requirement already satisfied: scipy>=0.17.0 in /usr/local/lib/python3.6/dist-packages (from scikit-learn>=0.18->rgf_python) (1.4.1)\n",
            "Requirement already satisfied: numpy>=1.11.0 in /usr/local/lib/python3.6/dist-packages (from scikit-learn>=0.18->rgf_python) (1.18.5)\n",
            "Installing collected packages: rgf-python\n",
            "Successfully installed rgf-python-3.9.0\n",
            "Collecting catboost\n",
            "\u001b[?25l  Downloading https://files.pythonhosted.org/packages/7e/c1/c1c4707013f9e2f8a96899dd3a87f66c9167d6d776a6dc8fe7ec8678d446/catboost-0.24.3-cp36-none-manylinux1_x86_64.whl (66.3MB)\n",
            "\u001b[K     |████████████████████████████████| 66.3MB 54kB/s \n",
            "\u001b[?25hRequirement already satisfied: plotly in /usr/local/lib/python3.6/dist-packages (from catboost) (4.4.1)\n",
            "Requirement already satisfied: pandas>=0.24.0 in /usr/local/lib/python3.6/dist-packages (from catboost) (1.1.4)\n",
            "Requirement already satisfied: matplotlib in /usr/local/lib/python3.6/dist-packages (from catboost) (3.2.2)\n",
            "Requirement already satisfied: numpy>=1.16.0 in /usr/local/lib/python3.6/dist-packages (from catboost) (1.18.5)\n",
            "Requirement already satisfied: graphviz in /usr/local/lib/python3.6/dist-packages (from catboost) (0.10.1)\n",
            "Requirement already satisfied: six in /usr/local/lib/python3.6/dist-packages (from catboost) (1.15.0)\n",
            "Requirement already satisfied: scipy in /usr/local/lib/python3.6/dist-packages (from catboost) (1.4.1)\n",
            "Requirement already satisfied: retrying>=1.3.3 in /usr/local/lib/python3.6/dist-packages (from plotly->catboost) (1.3.3)\n",
            "Requirement already satisfied: pytz>=2017.2 in /usr/local/lib/python3.6/dist-packages (from pandas>=0.24.0->catboost) (2018.9)\n",
            "Requirement already satisfied: python-dateutil>=2.7.3 in /usr/local/lib/python3.6/dist-packages (from pandas>=0.24.0->catboost) (2.8.1)\n",
            "Requirement already satisfied: cycler>=0.10 in /usr/local/lib/python3.6/dist-packages (from matplotlib->catboost) (0.10.0)\n",
            "Requirement already satisfied: pyparsing!=2.0.4,!=2.1.2,!=2.1.6,>=2.0.1 in /usr/local/lib/python3.6/dist-packages (from matplotlib->catboost) (2.4.7)\n",
            "Requirement already satisfied: kiwisolver>=1.0.1 in /usr/local/lib/python3.6/dist-packages (from matplotlib->catboost) (1.3.1)\n",
            "Installing collected packages: catboost\n",
            "Successfully installed catboost-0.24.3\n"
          ],
          "name": "stdout"
        }
      ]
    },
    {
      "cell_type": "code",
      "metadata": {
        "id": "G9D9s1uuBRnw"
      },
      "source": [
        "train= pd.read_csv(\"/content/drive/MyDrive/Zindi Folder/Train.csv\")\n",
        "test= pd.read_csv(\"/content/drive/MyDrive/Zindi Folder/Test.csv\")\n",
        "sample= pd.read_csv(\"/content/drive/MyDrive/Zindi Folder/SampleSubmission.csv\")"
      ],
      "execution_count": 2,
      "outputs": []
    },
    {
      "cell_type": "markdown",
      "metadata": {
        "id": "fflDK6ErHTmn"
      },
      "source": [
        "# Filling Missing Values"
      ]
    },
    {
      "cell_type": "code",
      "metadata": {
        "id": "6xHSpbh-Pw-X"
      },
      "source": [
        "train['Gender']= train['Gender'].fillna('other')\n",
        "test['Gender']= test['Gender'].fillna('other')"
      ],
      "execution_count": 3,
      "outputs": []
    },
    {
      "cell_type": "code",
      "metadata": {
        "id": "uBeH3CeiOGe4"
      },
      "source": [
        "train['Car_Category']= train['Car_Category'].fillna('Saloon')\n",
        "test['Car_Category']= test['Car_Category'].fillna('Saloon')"
      ],
      "execution_count": 4,
      "outputs": []
    },
    {
      "cell_type": "code",
      "metadata": {
        "id": "mMxI44RUOnyT"
      },
      "source": [
        "train['Subject_Car_Colour']= train['Subject_Car_Colour'].fillna('Black')\n",
        "test['Subject_Car_Colour']= test['Subject_Car_Colour'].fillna('Black')"
      ],
      "execution_count": 5,
      "outputs": []
    },
    {
      "cell_type": "code",
      "metadata": {
        "id": "v09Y7hvIO6TZ"
      },
      "source": [
        "train['Subject_Car_Make']= train['Subject_Car_Make'].fillna('Toyota')\n",
        "test['Subject_Car_Make']= test['Subject_Car_Make'].fillna('Toyota')"
      ],
      "execution_count": 6,
      "outputs": []
    },
    {
      "cell_type": "code",
      "metadata": {
        "id": "m88G7BFNPPCi"
      },
      "source": [
        "train['LGA_Name']= train['LGA_Name'].fillna('Victoria Island')\n",
        "test['LGA_Name']= test['LGA_Name'].fillna('Victoria Island')"
      ],
      "execution_count": 7,
      "outputs": []
    },
    {
      "cell_type": "code",
      "metadata": {
        "id": "YJvByvZxPjYE"
      },
      "source": [
        "train['State']= train['State'].fillna('Lagos')\n",
        "test['State']= test['State'].fillna('Lagos')"
      ],
      "execution_count": 8,
      "outputs": []
    },
    {
      "cell_type": "code",
      "metadata": {
        "colab": {
          "base_uri": "https://localhost:8080/"
        },
        "id": "ud98LegoQUqT",
        "outputId": "766cf7da-7d8e-40dc-b953-3ce53b8e2be3"
      },
      "source": [
        "train.isnull().sum()"
      ],
      "execution_count": 9,
      "outputs": [
        {
          "output_type": "execute_result",
          "data": {
            "text/plain": [
              "ID                        0\n",
              "Policy Start Date         0\n",
              "Policy End Date           0\n",
              "Gender                    0\n",
              "Age                       0\n",
              "First Transaction Date    0\n",
              "No_Pol                    0\n",
              "Car_Category              0\n",
              "Subject_Car_Colour        0\n",
              "Subject_Car_Make          0\n",
              "LGA_Name                  0\n",
              "State                     0\n",
              "ProductName               0\n",
              "target                    0\n",
              "dtype: int64"
            ]
          },
          "metadata": {
            "tags": []
          },
          "execution_count": 9
        }
      ]
    },
    {
      "cell_type": "markdown",
      "metadata": {
        "id": "zXJiHVwcHbtV"
      },
      "source": [
        "# Datetime Features"
      ]
    },
    {
      "cell_type": "code",
      "metadata": {
        "id": "gL0v9wN9Bs38"
      },
      "source": [
        "from datetime import datetime"
      ],
      "execution_count": 10,
      "outputs": []
    },
    {
      "cell_type": "code",
      "metadata": {
        "id": "xhZysdklGeG8"
      },
      "source": [
        "train[\"Policy Start Date\"]= pd.to_datetime(train[\"Policy Start Date\"])\n",
        "train[\"Policy End Date\"]= pd.to_datetime(train[\"Policy End Date\"])\n",
        "train[\"First Transaction Date\"]= pd.to_datetime(train[\"First Transaction Date\"])"
      ],
      "execution_count": 11,
      "outputs": []
    },
    {
      "cell_type": "code",
      "metadata": {
        "id": "ZrIzWEeCGeJf"
      },
      "source": [
        "test[\"Policy Start Date\"]= pd.to_datetime(test[\"Policy Start Date\"])\n",
        "test[\"Policy End Date\"]= pd.to_datetime(test[\"Policy End Date\"])\n",
        "test[\"First Transaction Date\"]= pd.to_datetime(test[\"First Transaction Date\"])"
      ],
      "execution_count": 12,
      "outputs": []
    },
    {
      "cell_type": "code",
      "metadata": {
        "id": "sM3grdOHGeNR"
      },
      "source": [
        "train[\"PSD\"]= [datetime.timestamp(i) for i in train[\"Policy Start Date\"]]\n",
        "train[\"PED\"]= [datetime.timestamp(i) for i in train[\"Policy End Date\"]]\n",
        "train[\"FTD\"]= [datetime.timestamp(i) for i in train[\"First Transaction Date\"]]"
      ],
      "execution_count": 13,
      "outputs": []
    },
    {
      "cell_type": "code",
      "metadata": {
        "id": "Fv5_8IYjGeEq"
      },
      "source": [
        "test[\"PSD\"]= [datetime.timestamp(i) for i in test[\"Policy Start Date\"]]\n",
        "test[\"PED\"]= [datetime.timestamp(i) for i in test[\"Policy End Date\"]]\n",
        "test[\"FTD\"]= [datetime.timestamp(i) for i in test[\"First Transaction Date\"]]"
      ],
      "execution_count": 14,
      "outputs": []
    },
    {
      "cell_type": "markdown",
      "metadata": {
        "id": "wJNx97GCHinj"
      },
      "source": [
        "# Scaling Age Column"
      ]
    },
    {
      "cell_type": "code",
      "metadata": {
        "id": "dSAPKHdUBzg1"
      },
      "source": [
        "data= train['Age']\n",
        "rs= RobustScaler()\n",
        "train['Age']= DataFrame(rs.fit_transform(data.values.reshape(-1,1)))"
      ],
      "execution_count": 15,
      "outputs": []
    },
    {
      "cell_type": "code",
      "metadata": {
        "id": "3pqleo4gESTx"
      },
      "source": [
        "dat= test['Age']\n",
        "test['Age']= DataFrame(rs.transform(dat.values.reshape(-1,1)))"
      ],
      "execution_count": 16,
      "outputs": []
    },
    {
      "cell_type": "markdown",
      "metadata": {
        "id": "SZXMo4qyKgND"
      },
      "source": [
        "# Gender Column EDA"
      ]
    },
    {
      "cell_type": "code",
      "metadata": {
        "id": "T_AsFkliKfm5"
      },
      "source": [
        "#train['Gender']= train['Gender'].replace(['Entity': 'other', 'Joint Gender': 'other', 'NOT STATED': 'other', 'SEX': 'other', 'NO GENDER': 'other']) "
      ],
      "execution_count": 17,
      "outputs": []
    },
    {
      "cell_type": "markdown",
      "metadata": {
        "id": "vQdQGhUgIaEd"
      },
      "source": [
        "# Categorical Data Conversion"
      ]
    },
    {
      "cell_type": "code",
      "metadata": {
        "id": "pxY06EcSIZr_"
      },
      "source": [
        "cat= ('Gender', 'Car_Category', 'Subject_Car_Colour',\n",
        "       'Subject_Car_Make', 'LGA_Name', 'State', 'ProductName')\n",
        "for x in cat:\n",
        "  train[x]= train[x].astype(str)"
      ],
      "execution_count": 18,
      "outputs": []
    },
    {
      "cell_type": "code",
      "metadata": {
        "id": "yQCE8bZqIglR"
      },
      "source": [
        "cats= ( 'Gender','Car_Category', 'Subject_Car_Colour',\n",
        "       'Subject_Car_Make', 'LGA_Name', 'State', 'ProductName')\n",
        "for y in cats:\n",
        "  test[y]= test[y].astype(str)"
      ],
      "execution_count": 19,
      "outputs": []
    },
    {
      "cell_type": "code",
      "metadata": {
        "id": "D33tmXMqIgVp"
      },
      "source": [
        "col= ( 'Gender','Car_Category', 'Subject_Car_Colour',\n",
        "       'Subject_Car_Make', 'LGA_Name', 'State', 'ProductName')\n",
        "for x in col:\n",
        "  le= LabelEncoder()\n",
        "  train[x]= le.fit_transform(train[x].values)"
      ],
      "execution_count": 20,
      "outputs": []
    },
    {
      "cell_type": "code",
      "metadata": {
        "id": "qYPhrw_UIv60"
      },
      "source": [
        "cols= ( 'Gender', 'Car_Category', 'Subject_Car_Colour',\n",
        "       'Subject_Car_Make', 'LGA_Name', 'State', 'ProductName')\n",
        "for y in cols:\n",
        "  le= LabelEncoder()\n",
        "  test[y]= le.fit_transform(test[y].values)"
      ],
      "execution_count": 21,
      "outputs": []
    },
    {
      "cell_type": "code",
      "metadata": {
        "colab": {
          "base_uri": "https://localhost:8080/"
        },
        "id": "s9vYyOIcI4Ye",
        "outputId": "bae1d2cf-bc32-4bff-bf3c-a82110b98cb8"
      },
      "source": [
        "train.dtypes"
      ],
      "execution_count": 22,
      "outputs": [
        {
          "output_type": "execute_result",
          "data": {
            "text/plain": [
              "ID                                object\n",
              "Policy Start Date         datetime64[ns]\n",
              "Policy End Date           datetime64[ns]\n",
              "Gender                             int64\n",
              "Age                              float64\n",
              "First Transaction Date    datetime64[ns]\n",
              "No_Pol                             int64\n",
              "Car_Category                       int64\n",
              "Subject_Car_Colour                 int64\n",
              "Subject_Car_Make                   int64\n",
              "LGA_Name                           int64\n",
              "State                              int64\n",
              "ProductName                        int64\n",
              "target                             int64\n",
              "PSD                              float64\n",
              "PED                              float64\n",
              "FTD                              float64\n",
              "dtype: object"
            ]
          },
          "metadata": {
            "tags": []
          },
          "execution_count": 22
        }
      ]
    },
    {
      "cell_type": "markdown",
      "metadata": {
        "id": "isGcX9KXHqlc"
      },
      "source": [
        "# Dealing With Imbalance Dataset Using Up Sample"
      ]
    },
    {
      "cell_type": "code",
      "metadata": {
        "colab": {
          "base_uri": "https://localhost:8080/"
        },
        "id": "Enf2smnECkoW",
        "outputId": "85c519b7-d07f-4eee-c213-e02a74f10ba6"
      },
      "source": [
        "train['target'].value_counts()"
      ],
      "execution_count": 23,
      "outputs": [
        {
          "output_type": "execute_result",
          "data": {
            "text/plain": [
              "0    10624\n",
              "1     1455\n",
              "Name: target, dtype: int64"
            ]
          },
          "metadata": {
            "tags": []
          },
          "execution_count": 23
        }
      ]
    },
    {
      "cell_type": "code",
      "metadata": {
        "id": "KE1k_I8QECgu"
      },
      "source": [
        "tr_majority = train[train.target==0]\n",
        "tr_minority = train[train.target==1]"
      ],
      "execution_count": 24,
      "outputs": []
    },
    {
      "cell_type": "code",
      "metadata": {
        "id": "QG68NnzRGGGO"
      },
      "source": [
        "from sklearn.utils import resample"
      ],
      "execution_count": 25,
      "outputs": []
    },
    {
      "cell_type": "code",
      "metadata": {
        "colab": {
          "base_uri": "https://localhost:8080/"
        },
        "id": "lqWrQpM5FAsi",
        "outputId": "85074e74-edc6-4fe9-9fab-f41b669e14b7"
      },
      "source": [
        "tr_minority_upsampled = resample(tr_minority, \n",
        "                                 replace=True,     \n",
        "                                 n_samples=10624,  \n",
        "                                 random_state=123)\n",
        "\n",
        "tr_upsampled = pd.concat([tr_majority, tr_minority_upsampled])\n",
        "\n",
        "tr_upsampled.target.value_counts()"
      ],
      "execution_count": 26,
      "outputs": [
        {
          "output_type": "execute_result",
          "data": {
            "text/plain": [
              "1    10624\n",
              "0    10624\n",
              "Name: target, dtype: int64"
            ]
          },
          "metadata": {
            "tags": []
          },
          "execution_count": 26
        }
      ]
    },
    {
      "cell_type": "code",
      "metadata": {
        "colab": {
          "base_uri": "https://localhost:8080/",
          "height": 343
        },
        "id": "mCSNt_ChGVCH",
        "outputId": "74dacdb8-f248-41f8-eec2-efbb377384ad"
      },
      "source": [
        "tr_upsampled.head()"
      ],
      "execution_count": 27,
      "outputs": [
        {
          "output_type": "execute_result",
          "data": {
            "text/html": [
              "<div>\n",
              "<style scoped>\n",
              "    .dataframe tbody tr th:only-of-type {\n",
              "        vertical-align: middle;\n",
              "    }\n",
              "\n",
              "    .dataframe tbody tr th {\n",
              "        vertical-align: top;\n",
              "    }\n",
              "\n",
              "    .dataframe thead th {\n",
              "        text-align: right;\n",
              "    }\n",
              "</style>\n",
              "<table border=\"1\" class=\"dataframe\">\n",
              "  <thead>\n",
              "    <tr style=\"text-align: right;\">\n",
              "      <th></th>\n",
              "      <th>ID</th>\n",
              "      <th>Policy Start Date</th>\n",
              "      <th>Policy End Date</th>\n",
              "      <th>Gender</th>\n",
              "      <th>Age</th>\n",
              "      <th>First Transaction Date</th>\n",
              "      <th>No_Pol</th>\n",
              "      <th>Car_Category</th>\n",
              "      <th>Subject_Car_Colour</th>\n",
              "      <th>Subject_Car_Make</th>\n",
              "      <th>LGA_Name</th>\n",
              "      <th>State</th>\n",
              "      <th>ProductName</th>\n",
              "      <th>target</th>\n",
              "      <th>PSD</th>\n",
              "      <th>PED</th>\n",
              "      <th>FTD</th>\n",
              "    </tr>\n",
              "  </thead>\n",
              "  <tbody>\n",
              "    <tr>\n",
              "      <th>0</th>\n",
              "      <td>0040R73</td>\n",
              "      <td>2010-05-14</td>\n",
              "      <td>2011-05-13</td>\n",
              "      <td>3</td>\n",
              "      <td>-0.733333</td>\n",
              "      <td>2010-05-14</td>\n",
              "      <td>1</td>\n",
              "      <td>8</td>\n",
              "      <td>4</td>\n",
              "      <td>67</td>\n",
              "      <td>247</td>\n",
              "      <td>73</td>\n",
              "      <td>1</td>\n",
              "      <td>0</td>\n",
              "      <td>1.273795e+09</td>\n",
              "      <td>1.305245e+09</td>\n",
              "      <td>1.273795e+09</td>\n",
              "    </tr>\n",
              "    <tr>\n",
              "      <th>2</th>\n",
              "      <td>005QMC3</td>\n",
              "      <td>2010-03-21</td>\n",
              "      <td>2011-03-20</td>\n",
              "      <td>3</td>\n",
              "      <td>0.133333</td>\n",
              "      <td>2010-03-21</td>\n",
              "      <td>1</td>\n",
              "      <td>8</td>\n",
              "      <td>32</td>\n",
              "      <td>67</td>\n",
              "      <td>247</td>\n",
              "      <td>73</td>\n",
              "      <td>1</td>\n",
              "      <td>0</td>\n",
              "      <td>1.269130e+09</td>\n",
              "      <td>1.300579e+09</td>\n",
              "      <td>1.269130e+09</td>\n",
              "    </tr>\n",
              "    <tr>\n",
              "      <th>3</th>\n",
              "      <td>0079OHW</td>\n",
              "      <td>2010-08-21</td>\n",
              "      <td>2011-08-20</td>\n",
              "      <td>3</td>\n",
              "      <td>-2.600000</td>\n",
              "      <td>2010-08-21</td>\n",
              "      <td>1</td>\n",
              "      <td>8</td>\n",
              "      <td>4</td>\n",
              "      <td>69</td>\n",
              "      <td>247</td>\n",
              "      <td>73</td>\n",
              "      <td>5</td>\n",
              "      <td>0</td>\n",
              "      <td>1.282349e+09</td>\n",
              "      <td>1.313798e+09</td>\n",
              "      <td>1.282349e+09</td>\n",
              "    </tr>\n",
              "    <tr>\n",
              "      <th>5</th>\n",
              "      <td>00D3EF6</td>\n",
              "      <td>2010-10-21</td>\n",
              "      <td>2011-10-20</td>\n",
              "      <td>3</td>\n",
              "      <td>-0.266667</td>\n",
              "      <td>2010-10-21</td>\n",
              "      <td>2</td>\n",
              "      <td>8</td>\n",
              "      <td>4</td>\n",
              "      <td>69</td>\n",
              "      <td>247</td>\n",
              "      <td>73</td>\n",
              "      <td>1</td>\n",
              "      <td>0</td>\n",
              "      <td>1.287619e+09</td>\n",
              "      <td>1.319069e+09</td>\n",
              "      <td>1.287619e+09</td>\n",
              "    </tr>\n",
              "    <tr>\n",
              "      <th>6</th>\n",
              "      <td>00HHZ8Y</td>\n",
              "      <td>2010-08-02</td>\n",
              "      <td>2011-08-01</td>\n",
              "      <td>1</td>\n",
              "      <td>-0.066667</td>\n",
              "      <td>2010-08-02</td>\n",
              "      <td>3</td>\n",
              "      <td>8</td>\n",
              "      <td>4</td>\n",
              "      <td>69</td>\n",
              "      <td>115</td>\n",
              "      <td>73</td>\n",
              "      <td>0</td>\n",
              "      <td>0</td>\n",
              "      <td>1.280707e+09</td>\n",
              "      <td>1.312157e+09</td>\n",
              "      <td>1.280707e+09</td>\n",
              "    </tr>\n",
              "  </tbody>\n",
              "</table>\n",
              "</div>"
            ],
            "text/plain": [
              "        ID Policy Start Date  ...           PED           FTD\n",
              "0  0040R73        2010-05-14  ...  1.305245e+09  1.273795e+09\n",
              "2  005QMC3        2010-03-21  ...  1.300579e+09  1.269130e+09\n",
              "3  0079OHW        2010-08-21  ...  1.313798e+09  1.282349e+09\n",
              "5  00D3EF6        2010-10-21  ...  1.319069e+09  1.287619e+09\n",
              "6  00HHZ8Y        2010-08-02  ...  1.312157e+09  1.280707e+09\n",
              "\n",
              "[5 rows x 17 columns]"
            ]
          },
          "metadata": {
            "tags": []
          },
          "execution_count": 27
        }
      ]
    },
    {
      "cell_type": "code",
      "metadata": {
        "colab": {
          "base_uri": "https://localhost:8080/",
          "height": 343
        },
        "id": "dtJYquFuSKoB",
        "outputId": "7b2d406c-2fb7-4e00-d359-aee0b3a3e458"
      },
      "source": [
        "test.head()"
      ],
      "execution_count": 28,
      "outputs": [
        {
          "output_type": "execute_result",
          "data": {
            "text/html": [
              "<div>\n",
              "<style scoped>\n",
              "    .dataframe tbody tr th:only-of-type {\n",
              "        vertical-align: middle;\n",
              "    }\n",
              "\n",
              "    .dataframe tbody tr th {\n",
              "        vertical-align: top;\n",
              "    }\n",
              "\n",
              "    .dataframe thead th {\n",
              "        text-align: right;\n",
              "    }\n",
              "</style>\n",
              "<table border=\"1\" class=\"dataframe\">\n",
              "  <thead>\n",
              "    <tr style=\"text-align: right;\">\n",
              "      <th></th>\n",
              "      <th>ID</th>\n",
              "      <th>Policy Start Date</th>\n",
              "      <th>Policy End Date</th>\n",
              "      <th>Gender</th>\n",
              "      <th>Age</th>\n",
              "      <th>First Transaction Date</th>\n",
              "      <th>No_Pol</th>\n",
              "      <th>Car_Category</th>\n",
              "      <th>Subject_Car_Colour</th>\n",
              "      <th>Subject_Car_Make</th>\n",
              "      <th>LGA_Name</th>\n",
              "      <th>State</th>\n",
              "      <th>ProductName</th>\n",
              "      <th>PSD</th>\n",
              "      <th>PED</th>\n",
              "      <th>FTD</th>\n",
              "    </tr>\n",
              "  </thead>\n",
              "  <tbody>\n",
              "    <tr>\n",
              "      <th>0</th>\n",
              "      <td>009D84L</td>\n",
              "      <td>2010-04-24</td>\n",
              "      <td>2011-03-27</td>\n",
              "      <td>4</td>\n",
              "      <td>-1.066667</td>\n",
              "      <td>2010-04-24</td>\n",
              "      <td>1</td>\n",
              "      <td>7</td>\n",
              "      <td>0</td>\n",
              "      <td>22</td>\n",
              "      <td>185</td>\n",
              "      <td>52</td>\n",
              "      <td>0</td>\n",
              "      <td>1.272067e+09</td>\n",
              "      <td>1.301184e+09</td>\n",
              "      <td>1.272067e+09</td>\n",
              "    </tr>\n",
              "    <tr>\n",
              "      <th>1</th>\n",
              "      <td>01DO2EQ</td>\n",
              "      <td>2010-01-01</td>\n",
              "      <td>2010-12-31</td>\n",
              "      <td>7</td>\n",
              "      <td>5.266667</td>\n",
              "      <td>2010-01-01</td>\n",
              "      <td>4</td>\n",
              "      <td>7</td>\n",
              "      <td>0</td>\n",
              "      <td>49</td>\n",
              "      <td>185</td>\n",
              "      <td>52</td>\n",
              "      <td>8</td>\n",
              "      <td>1.262304e+09</td>\n",
              "      <td>1.293754e+09</td>\n",
              "      <td>1.262304e+09</td>\n",
              "    </tr>\n",
              "    <tr>\n",
              "      <th>2</th>\n",
              "      <td>01QM0NU</td>\n",
              "      <td>2010-10-23</td>\n",
              "      <td>2011-10-22</td>\n",
              "      <td>1</td>\n",
              "      <td>0.333333</td>\n",
              "      <td>2010-10-23</td>\n",
              "      <td>1</td>\n",
              "      <td>7</td>\n",
              "      <td>4</td>\n",
              "      <td>13</td>\n",
              "      <td>11</td>\n",
              "      <td>6</td>\n",
              "      <td>1</td>\n",
              "      <td>1.287792e+09</td>\n",
              "      <td>1.319242e+09</td>\n",
              "      <td>1.287792e+09</td>\n",
              "    </tr>\n",
              "    <tr>\n",
              "      <th>3</th>\n",
              "      <td>024NJLZ</td>\n",
              "      <td>2010-10-14</td>\n",
              "      <td>2011-10-13</td>\n",
              "      <td>3</td>\n",
              "      <td>-0.600000</td>\n",
              "      <td>2010-10-14</td>\n",
              "      <td>1</td>\n",
              "      <td>7</td>\n",
              "      <td>4</td>\n",
              "      <td>50</td>\n",
              "      <td>113</td>\n",
              "      <td>14</td>\n",
              "      <td>1</td>\n",
              "      <td>1.287014e+09</td>\n",
              "      <td>1.318464e+09</td>\n",
              "      <td>1.287014e+09</td>\n",
              "    </tr>\n",
              "    <tr>\n",
              "      <th>4</th>\n",
              "      <td>02BYET3</td>\n",
              "      <td>2010-09-16</td>\n",
              "      <td>2010-12-31</td>\n",
              "      <td>7</td>\n",
              "      <td>5.266667</td>\n",
              "      <td>2010-09-16</td>\n",
              "      <td>4</td>\n",
              "      <td>7</td>\n",
              "      <td>4</td>\n",
              "      <td>49</td>\n",
              "      <td>185</td>\n",
              "      <td>52</td>\n",
              "      <td>8</td>\n",
              "      <td>1.284595e+09</td>\n",
              "      <td>1.293754e+09</td>\n",
              "      <td>1.284595e+09</td>\n",
              "    </tr>\n",
              "  </tbody>\n",
              "</table>\n",
              "</div>"
            ],
            "text/plain": [
              "        ID Policy Start Date  ...           PED           FTD\n",
              "0  009D84L        2010-04-24  ...  1.301184e+09  1.272067e+09\n",
              "1  01DO2EQ        2010-01-01  ...  1.293754e+09  1.262304e+09\n",
              "2  01QM0NU        2010-10-23  ...  1.319242e+09  1.287792e+09\n",
              "3  024NJLZ        2010-10-14  ...  1.318464e+09  1.287014e+09\n",
              "4  02BYET3        2010-09-16  ...  1.293754e+09  1.284595e+09\n",
              "\n",
              "[5 rows x 16 columns]"
            ]
          },
          "metadata": {
            "tags": []
          },
          "execution_count": 28
        }
      ]
    },
    {
      "cell_type": "code",
      "metadata": {
        "id": "pI3eJI7rGVZR"
      },
      "source": [
        "y = tr_upsampled.target\n",
        "X = tr_upsampled.drop(['target', 'ID', 'Policy Start Date', 'First Transaction Date', 'Policy End Date'], axis=1)"
      ],
      "execution_count": 29,
      "outputs": []
    },
    {
      "cell_type": "code",
      "metadata": {
        "id": "rYdxifXSYWAZ"
      },
      "source": [
        "test= test.drop(['ID', 'Policy Start Date', 'First Transaction Date', 'Policy End Date'], axis= 1)"
      ],
      "execution_count": 30,
      "outputs": []
    },
    {
      "cell_type": "code",
      "metadata": {
        "id": "wYbvTCl2GU5q"
      },
      "source": [
        "train_x, val_x, train_y, val_y= train_test_split(X,y, test_size= 0.4, random_state= 999)"
      ],
      "execution_count": 31,
      "outputs": []
    },
    {
      "cell_type": "code",
      "metadata": {
        "colab": {
          "base_uri": "https://localhost:8080/"
        },
        "id": "4yo7rJRlVTTS",
        "outputId": "9ef1cb92-9ef7-4c2f-ee17-323ad583b962"
      },
      "source": [
        "#rfc= RandomForestClassifier(n_estimators= 500)\n",
        "rf= RandomForestClassifier(n_estimators= 300)\n",
        "#rfm= RGFClassifier()\n",
        "rf.fit(train_x, train_y)"
      ],
      "execution_count": 32,
      "outputs": [
        {
          "output_type": "execute_result",
          "data": {
            "text/plain": [
              "RandomForestClassifier(bootstrap=True, ccp_alpha=0.0, class_weight=None,\n",
              "                       criterion='gini', max_depth=None, max_features='auto',\n",
              "                       max_leaf_nodes=None, max_samples=None,\n",
              "                       min_impurity_decrease=0.0, min_impurity_split=None,\n",
              "                       min_samples_leaf=1, min_samples_split=2,\n",
              "                       min_weight_fraction_leaf=0.0, n_estimators=300,\n",
              "                       n_jobs=None, oob_score=False, random_state=None,\n",
              "                       verbose=0, warm_start=False)"
            ]
          },
          "metadata": {
            "tags": []
          },
          "execution_count": 32
        }
      ]
    },
    {
      "cell_type": "code",
      "metadata": {
        "colab": {
          "base_uri": "https://localhost:8080/"
        },
        "id": "eYrf7gJGv0UY",
        "outputId": "94b489e6-1cbf-47e9-da3f-b3b42bae2831"
      },
      "source": [
        "threshold = 0.4\n",
        "\n",
        "predicted_proba = rf.predict_proba(val_x)\n",
        "predicted = (predicted_proba [:,1] >= threshold).astype('int')\n",
        "\n",
        "accuracy = f1_score(val_y, predicted)\n",
        "print(accuracy)"
      ],
      "execution_count": 34,
      "outputs": [
        {
          "output_type": "stream",
          "text": [
            "0.9149824253075571\n"
          ],
          "name": "stdout"
        }
      ]
    },
    {
      "cell_type": "code",
      "metadata": {
        "colab": {
          "base_uri": "https://localhost:8080/"
        },
        "id": "i0-68QQwV5dz",
        "outputId": "4219befc-70dc-4852-90f4-e2f06b1f3e04"
      },
      "source": [
        "pred= rf.predict(val_x)\n",
        "print('Score', f1_score(val_y, pred))"
      ],
      "execution_count": 35,
      "outputs": [
        {
          "output_type": "stream",
          "text": [
            "Score 0.9359783588818756\n"
          ],
          "name": "stdout"
        }
      ]
    },
    {
      "cell_type": "code",
      "metadata": {
        "colab": {
          "base_uri": "https://localhost:8080/"
        },
        "id": "XLjhyOjta3sc",
        "outputId": "e76bf2c9-e991-4db7-945f-0c422770f582"
      },
      "source": [
        "print(classification_report(val_y, predicted))"
      ],
      "execution_count": 37,
      "outputs": [
        {
          "output_type": "stream",
          "text": [
            "              precision    recall  f1-score   support\n",
            "\n",
            "           0       0.99      0.83      0.90      4307\n",
            "           1       0.85      0.99      0.91      4193\n",
            "\n",
            "    accuracy                           0.91      8500\n",
            "   macro avg       0.92      0.91      0.91      8500\n",
            "weighted avg       0.92      0.91      0.91      8500\n",
            "\n"
          ],
          "name": "stdout"
        }
      ]
    },
    {
      "cell_type": "code",
      "metadata": {
        "colab": {
          "base_uri": "https://localhost:8080/"
        },
        "id": "l_q-xi8lWjzT",
        "outputId": "47225420-ede3-4f8b-924d-45e55bc795d2"
      },
      "source": [
        "rf.fit(X,y)"
      ],
      "execution_count": 38,
      "outputs": [
        {
          "output_type": "execute_result",
          "data": {
            "text/plain": [
              "RandomForestClassifier(bootstrap=True, ccp_alpha=0.0, class_weight=None,\n",
              "                       criterion='gini', max_depth=None, max_features='auto',\n",
              "                       max_leaf_nodes=None, max_samples=None,\n",
              "                       min_impurity_decrease=0.0, min_impurity_split=None,\n",
              "                       min_samples_leaf=1, min_samples_split=2,\n",
              "                       min_weight_fraction_leaf=0.0, n_estimators=300,\n",
              "                       n_jobs=None, oob_score=False, random_state=None,\n",
              "                       verbose=0, warm_start=False)"
            ]
          },
          "metadata": {
            "tags": []
          },
          "execution_count": 38
        }
      ]
    },
    {
      "cell_type": "code",
      "metadata": {
        "id": "8MGmcgRKxM7x"
      },
      "source": [
        "predicted_pro = rf.predict_proba(test)\n",
        "predictin = (predicted_pro [:,1] >= threshold).astype('int')\n"
      ],
      "execution_count": 39,
      "outputs": []
    },
    {
      "cell_type": "code",
      "metadata": {
        "colab": {
          "base_uri": "https://localhost:8080/",
          "height": 204
        },
        "id": "Uw3pdTnHWjuC",
        "outputId": "cc1dc0f8-9110-491f-d214-4bdc7e2b6319"
      },
      "source": [
        "sample['target']= predictin\n",
        "sample.head()"
      ],
      "execution_count": 40,
      "outputs": [
        {
          "output_type": "execute_result",
          "data": {
            "text/html": [
              "<div>\n",
              "<style scoped>\n",
              "    .dataframe tbody tr th:only-of-type {\n",
              "        vertical-align: middle;\n",
              "    }\n",
              "\n",
              "    .dataframe tbody tr th {\n",
              "        vertical-align: top;\n",
              "    }\n",
              "\n",
              "    .dataframe thead th {\n",
              "        text-align: right;\n",
              "    }\n",
              "</style>\n",
              "<table border=\"1\" class=\"dataframe\">\n",
              "  <thead>\n",
              "    <tr style=\"text-align: right;\">\n",
              "      <th></th>\n",
              "      <th>ID</th>\n",
              "      <th>target</th>\n",
              "    </tr>\n",
              "  </thead>\n",
              "  <tbody>\n",
              "    <tr>\n",
              "      <th>0</th>\n",
              "      <td>009D84L</td>\n",
              "      <td>1</td>\n",
              "    </tr>\n",
              "    <tr>\n",
              "      <th>1</th>\n",
              "      <td>01DO2EQ</td>\n",
              "      <td>1</td>\n",
              "    </tr>\n",
              "    <tr>\n",
              "      <th>2</th>\n",
              "      <td>01QM0NU</td>\n",
              "      <td>0</td>\n",
              "    </tr>\n",
              "    <tr>\n",
              "      <th>3</th>\n",
              "      <td>024NJLZ</td>\n",
              "      <td>0</td>\n",
              "    </tr>\n",
              "    <tr>\n",
              "      <th>4</th>\n",
              "      <td>02BYET3</td>\n",
              "      <td>1</td>\n",
              "    </tr>\n",
              "  </tbody>\n",
              "</table>\n",
              "</div>"
            ],
            "text/plain": [
              "        ID  target\n",
              "0  009D84L       1\n",
              "1  01DO2EQ       1\n",
              "2  01QM0NU       0\n",
              "3  024NJLZ       0\n",
              "4  02BYET3       1"
            ]
          },
          "metadata": {
            "tags": []
          },
          "execution_count": 40
        }
      ]
    },
    {
      "cell_type": "code",
      "metadata": {
        "id": "wJ7AlXs6xwMh"
      },
      "source": [
        "sample.to_csv('ikmsr.csv', index = False)"
      ],
      "execution_count": 41,
      "outputs": []
    },
    {
      "cell_type": "code",
      "metadata": {
        "colab": {
          "base_uri": "https://localhost:8080/",
          "height": 204
        },
        "id": "2Qa0ywvsZNmP",
        "outputId": "1eb2d05d-61bf-4649-a2c2-1e64117f870b"
      },
      "source": [
        "sample.head()"
      ],
      "execution_count": 42,
      "outputs": [
        {
          "output_type": "execute_result",
          "data": {
            "text/html": [
              "<div>\n",
              "<style scoped>\n",
              "    .dataframe tbody tr th:only-of-type {\n",
              "        vertical-align: middle;\n",
              "    }\n",
              "\n",
              "    .dataframe tbody tr th {\n",
              "        vertical-align: top;\n",
              "    }\n",
              "\n",
              "    .dataframe thead th {\n",
              "        text-align: right;\n",
              "    }\n",
              "</style>\n",
              "<table border=\"1\" class=\"dataframe\">\n",
              "  <thead>\n",
              "    <tr style=\"text-align: right;\">\n",
              "      <th></th>\n",
              "      <th>ID</th>\n",
              "      <th>target</th>\n",
              "    </tr>\n",
              "  </thead>\n",
              "  <tbody>\n",
              "    <tr>\n",
              "      <th>0</th>\n",
              "      <td>009D84L</td>\n",
              "      <td>1</td>\n",
              "    </tr>\n",
              "    <tr>\n",
              "      <th>1</th>\n",
              "      <td>01DO2EQ</td>\n",
              "      <td>1</td>\n",
              "    </tr>\n",
              "    <tr>\n",
              "      <th>2</th>\n",
              "      <td>01QM0NU</td>\n",
              "      <td>0</td>\n",
              "    </tr>\n",
              "    <tr>\n",
              "      <th>3</th>\n",
              "      <td>024NJLZ</td>\n",
              "      <td>0</td>\n",
              "    </tr>\n",
              "    <tr>\n",
              "      <th>4</th>\n",
              "      <td>02BYET3</td>\n",
              "      <td>1</td>\n",
              "    </tr>\n",
              "  </tbody>\n",
              "</table>\n",
              "</div>"
            ],
            "text/plain": [
              "        ID  target\n",
              "0  009D84L       1\n",
              "1  01DO2EQ       1\n",
              "2  01QM0NU       0\n",
              "3  024NJLZ       0\n",
              "4  02BYET3       1"
            ]
          },
          "metadata": {
            "tags": []
          },
          "execution_count": 42
        }
      ]
    }
  ]
}